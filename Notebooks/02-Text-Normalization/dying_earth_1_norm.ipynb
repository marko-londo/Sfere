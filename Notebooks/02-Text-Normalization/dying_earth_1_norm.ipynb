{
 "cells": [
  {
   "cell_type": "code",
   "execution_count": null,
   "metadata": {},
   "outputs": [],
   "source": [
    "import spacy\n",
    "from spacy.lang.en.stop_words import STOP_WORDS\n",
    "import pickle\n"
   ]
  },
  {
   "cell_type": "code",
   "execution_count": null,
   "metadata": {},
   "outputs": [],
   "source": [
    "def open_book(filename):\n",
    "    with open(\"../../Resources/Cleaned/\"+filename+\".txt\", 'r', encoding='utf-8') as file:\n",
    "        text = file.read()\n",
    "    return text\n",
    "\n",
    "def clean_text(text):\n",
    "    # Load the SpaCy model\n",
    "    nlp = spacy.load(\"en_core_web_sm\")\n",
    "\n",
    "    # Replace line breaks with spaces\n",
    "    text = text.replace('\\n', ' ')\n",
    "\n",
    "    # Create a SpaCy document\n",
    "    doc = nlp(text)\n",
    "\n",
    "    # Lemmatize and remove stop words and punctuation\n",
    "    filtered_tokens = [token.lemma_ for token in doc if token.text.lower() not in STOP_WORDS and not token.is_punct]\n",
    "\n",
    "    return filtered_tokens\n",
    "\n",
    "def to_pickle(target, filename):\n",
    "    with open(\"../../Resources/Cleaned/\"+filename+\".pkl\", \"wb\") as file:\n",
    "        pickle.dump(target, file)"
   ]
  },
  {
   "cell_type": "code",
   "execution_count": null,
   "metadata": {},
   "outputs": [],
   "source": [
    "book = open_book(\"dying_earth1_cleaned\")"
   ]
  },
  {
   "cell_type": "code",
   "execution_count": null,
   "metadata": {},
   "outputs": [],
   "source": [
    "cleaned_book = clean_text(book)"
   ]
  },
  {
   "cell_type": "code",
   "execution_count": null,
   "metadata": {},
   "outputs": [],
   "source": [
    "cleaned_book"
   ]
  },
  {
   "cell_type": "code",
   "execution_count": null,
   "metadata": {},
   "outputs": [],
   "source": [
    "to_pickle(cleaned_book, \"de1_processed_text\")"
   ]
  }
 ],
 "metadata": {
  "kernelspec": {
   "display_name": "lumenwood",
   "language": "python",
   "name": "python3"
  },
  "language_info": {
   "codemirror_mode": {
    "name": "ipython",
    "version": 3
   },
   "file_extension": ".py",
   "mimetype": "text/x-python",
   "name": "python",
   "nbconvert_exporter": "python",
   "pygments_lexer": "ipython3",
   "version": "3.8.18"
  }
 },
 "nbformat": 4,
 "nbformat_minor": 2
}
