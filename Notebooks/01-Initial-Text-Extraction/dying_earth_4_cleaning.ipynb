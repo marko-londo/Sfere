{
 "cells": [
  {
   "cell_type": "code",
   "execution_count": 7,
   "metadata": {},
   "outputs": [],
   "source": [
    "# Imports\n",
    "\n",
    "import ebooklib\n",
    "from ebooklib import epub\n",
    "from bs4 import BeautifulSoup\n",
    "import re"
   ]
  },
  {
   "cell_type": "code",
   "execution_count": 8,
   "metadata": {},
   "outputs": [],
   "source": [
    "# Functions \n",
    "\n",
    "# Function to load and read the content of an EPUB file\n",
    "def epub_loader(filepath):\n",
    "    # Read the EPUB file\n",
    "    book = epub.read_epub(r\"../../Resources/Raw/\"+filepath)\n",
    "\n",
    "    # Extract the text content from the EPUB file\n",
    "    for item in book.get_items():\n",
    "        if item.get_type() == ebooklib.ITEM_DOCUMENT:\n",
    "            # Parse the HTML content using BeautifulSoup\n",
    "            soup = BeautifulSoup(item.content, 'html.parser')\n",
    "            # Get the text from the parsed HTML\n",
    "            text = soup.get_text()\n",
    "\n",
    "    # Return the extracted text\n",
    "    return text\n",
    "\n",
    "# Function to clean the extracted text from an EPUB file\n",
    "def clean_text(text):\n",
    "    # Split the text into paragraphs\n",
    "    paragraphs = text.split('\\n\\n\\n')\n",
    "    cleaned_paragraphs = []\n",
    "\n",
    "    # Clean each paragraph by removing extra whitespace\n",
    "    for paragraph in paragraphs:\n",
    "        cleaned_paragraph = re.sub(r'\\s+', ' ', paragraph.strip())\n",
    "        cleaned_paragraphs.append(cleaned_paragraph)\n",
    "\n",
    "    # Join the cleaned paragraphs and return the result\n",
    "    return '\\n'.join(cleaned_paragraphs)\n",
    "\n",
    "# Function to remove page and chapter numbers from the cleaned text\n",
    "def remove_page_and_chapter_num(text):\n",
    "    # Split the text into lines\n",
    "    lines = text.split('\\n')\n",
    "    cleaned_lines = []\n",
    "\n",
    "    # Remove page and chapter numbers from each line\n",
    "    for line in lines:\n",
    "        cleaned_line = re.sub(r'^\\d+\\s*', '', line)\n",
    "        cleaned_lines.append(cleaned_line)\n",
    "\n",
    "    # Join the cleaned lines and return the result\n",
    "    return '\\n'.join(cleaned_lines)\n",
    "\n",
    "# Function to remove initial text from the cleaned text\n",
    "def remove_initial_text(text):\n",
    "    # Define the initial text to be removed\n",
    "    removal_text = \"Rhilato the Marvellous Foreword\"\n",
    "    # Find the end index of the removal text\n",
    "    end_index = text.find(removal_text) + len(removal_text)\n",
    "\n",
    "    # Remove the initial text if found, otherwise return the original text\n",
    "    if end_index > -1:\n",
    "        return text[end_index:].strip()\n",
    "    else:\n",
    "        return text\n",
    "\n",
    "# Function to remove blank lines from the cleaned text\n",
    "def remove_blank_lines(text):\n",
    "    # Split the text into lines\n",
    "    lines = text.split('\\n')\n",
    "    non_blank_lines = []\n",
    "\n",
    "    # Remove blank lines from the text\n",
    "    for line in lines:\n",
    "        if line.strip():\n",
    "            non_blank_lines.append(line)\n",
    "\n",
    "    # Join the non-blank lines and return the result\n",
    "    return '\\n'.join(non_blank_lines)\n",
    "\n",
    "# Function to save the cleaned text as a text file\n",
    "def save_as_txt(filename, text):\n",
    "    # Open the file in write mode and write the cleaned text\n",
    "    with open(\"../../Resources/Cleaned/\"+filename+\".txt\", 'w', encoding='utf-8') as file:\n",
    "        file.write(text.strip())"
   ]
  },
  {
   "cell_type": "code",
   "execution_count": null,
   "metadata": {},
   "outputs": [],
   "source": [
    "de_4_text = epub_loader(\"dying_earth4.epub\")"
   ]
  },
  {
   "cell_type": "code",
   "execution_count": 10,
   "metadata": {},
   "outputs": [],
   "source": [
    "de_4_text = clean_text(de_4_text)\n",
    "de_4_text = remove_page_and_chapter_num(de_4_text)\n",
    "de_4_text = remove_initial_text(de_4_text)\n",
    "de_4_text = remove_blank_lines(de_4_text)"
   ]
  },
  {
   "cell_type": "code",
   "execution_count": null,
   "metadata": {},
   "outputs": [],
   "source": [
    "print(de_4_text)"
   ]
  },
  {
   "cell_type": "code",
   "execution_count": 12,
   "metadata": {},
   "outputs": [],
   "source": [
    "save_as_txt(\"dying_earth4_cleaned\", de_4_text)"
   ]
  }
 ],
 "metadata": {
  "kernelspec": {
   "display_name": "lumenwood",
   "language": "python",
   "name": "python3"
  },
  "language_info": {
   "codemirror_mode": {
    "name": "ipython",
    "version": 3
   },
   "file_extension": ".py",
   "mimetype": "text/x-python",
   "name": "python",
   "nbconvert_exporter": "python",
   "pygments_lexer": "ipython3",
   "version": "3.8.18"
  }
 },
 "nbformat": 4,
 "nbformat_minor": 2
}
