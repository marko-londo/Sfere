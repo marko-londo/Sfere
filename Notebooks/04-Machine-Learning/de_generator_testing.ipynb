{
 "cells": [
  {
   "cell_type": "code",
   "execution_count": null,
   "metadata": {},
   "outputs": [],
   "source": [
    "import random\n",
    "import pickle\n",
    "\n",
    "from transformers import GPT2LMHeadModel, GPT2Tokenizer\n"
   ]
  },
  {
   "cell_type": "code",
   "execution_count": null,
   "metadata": {},
   "outputs": [],
   "source": [
    "mod_path = r\"C:\\Users\\dontb\\01\\001\\Repos\\Dying-Earth\\Notebooks\\04-Machine-Learning\\Models\\GPT2\\gen_model\"\n",
    "tok_path = r\"C:\\Users\\dontb\\01\\001\\Repos\\Dying-Earth\\Notebooks\\04-Machine-Learning\\Models\\GPT2\\gen_tokenizer\"\n",
    "\n",
    "model = GPT2LMHeadModel.from_pretrained(mod_path)\n",
    "tokenizer = GPT2Tokenizer.from_pretrained(tok_path)"
   ]
  },
  {
   "cell_type": "code",
   "execution_count": null,
   "metadata": {},
   "outputs": [],
   "source": [
    "model_specs = {\n",
    "    \"Model Name\": model.name_or_path,\n",
    "    \"Number of Parameters\": model.num_parameters(),\n",
    "    \"Number of Layers\": model.cotellnfig.n_layer,\n",
    "    \"Hidden Size\": model.config.n_embd,\n",
    "    \"Number of Attention Heads\": model.config.n_head,\n",
    "    \"Vocab Size\": model.config.vocab_size,\n",
    "    \"Max Sequence Length\": model.config.n_positions,\n",
    "}\n",
    "\n",
    "model_specs"
   ]
  },
  {
   "cell_type": "code",
   "execution_count": null,
   "metadata": {},
   "outputs": [],
   "source": [
    "with open(r'C:\\Users\\dontb\\01\\001\\Repos\\Dying-Earth\\Notebooks\\04-Machine-Learning\\prompt_starters.pickle', 'rb') as file:\n",
    "    starter_prompts = pickle.load(file)"
   ]
  },
  {
   "cell_type": "code",
   "execution_count": null,
   "metadata": {},
   "outputs": [],
   "source": [
    "print(starter_prompts[:5])"
   ]
  },
  {
   "cell_type": "code",
   "execution_count": null,
   "metadata": {},
   "outputs": [],
   "source": [
    "prompt = random.choice(starter_prompts)\n",
    "input_ids = tokenizer.encode(prompt, return_tensors='pt')\n",
    "\n",
    "# Move input_ids to the same device as the model\n",
    "input_ids = input_ids.to(model.device)\n",
    "\n",
    "max_length = len(input_ids.tolist()[0]) + 600  # Increase max length for longer outputs\n",
    "\n",
    "# Generate and decode text\n",
    "from transformers import set_seed\n",
    "\n",
    "# Optional: Set a seed for reproducibility\n",
    "\n",
    "# Adjusting generation parameters\n",
    "output = model.generate(\n",
    "    input_ids,\n",
    "    max_length=max_length,  # Updated max length\n",
    "    do_sample=True,        # Enable sampling\n",
    "    temperature=0.6,       # Adjust the temperature if needed\n",
    "    top_k=60,              # Use top-k sampling\n",
    "    top_p=0.9,            # Use top-p (nucleus) sampling\n",
    "    pad_token_id=tokenizer.eos_token_id,\n",
    "    attention_mask=input_ids.new_ones(input_ids.shape)\n",
    ")\n",
    "\n",
    "generated_text = tokenizer.decode(output[0], skip_special_tokens=True)\n",
    "print(generated_text)"
   ]
  }
 ],
 "metadata": {
  "kernelspec": {
   "display_name": "cathedral",
   "language": "python",
   "name": "python3"
  },
  "language_info": {
   "codemirror_mode": {
    "name": "ipython",
    "version": 3
   },
   "file_extension": ".py",
   "mimetype": "text/x-python",
   "name": "python",
   "nbconvert_exporter": "python",
   "pygments_lexer": "ipython3",
   "version": "3.8.18"
  }
 },
 "nbformat": 4,
 "nbformat_minor": 2
}
