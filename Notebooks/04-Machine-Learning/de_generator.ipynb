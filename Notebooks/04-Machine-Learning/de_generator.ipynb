{
 "cells": [
  {
   "cell_type": "code",
   "execution_count": null,
   "metadata": {},
   "outputs": [],
   "source": [
    "import pandas as pd\n",
    "from transformers import GPT2Tokenizer, GPT2LMHeadModel, TextDataset, DataCollatorForLanguageModeling\n",
    "from transformers import Trainer, TrainingArguments\n",
    "from transformers import pipeline"
   ]
  },
  {
   "cell_type": "code",
   "execution_count": null,
   "metadata": {},
   "outputs": [],
   "source": [
    "\n",
    "\n",
    "tokenizer = GPT2Tokenizer.from_pretrained('gpt2')\n",
    "model = GPT2LMHeadModel.from_pretrained('gpt2')"
   ]
  },
  {
   "cell_type": "code",
   "execution_count": null,
   "metadata": {},
   "outputs": [],
   "source": [
    "def pandas_df(csv):\n",
    "    df = pd.read_csv(r\"../../Resources/Cleaned/\"+csv+\".csv\")\n",
    "    return df\n",
    "\n",
    "def add_eos_to_examples(example):\n",
    "    return {'input_ids': tokenizer.encode(example['Text'] + tokenizer.eos_token, truncation=True)}"
   ]
  },
  {
   "cell_type": "code",
   "execution_count": null,
   "metadata": {},
   "outputs": [],
   "source": [
    "corpus = pandas_df(\"dying_earth_corpus\")"
   ]
  },
  {
   "cell_type": "code",
   "execution_count": null,
   "metadata": {},
   "outputs": [],
   "source": [
    "corpus.head()"
   ]
  },
  {
   "cell_type": "code",
   "execution_count": null,
   "metadata": {},
   "outputs": [],
   "source": [
    "corpus['Text'] = corpus['Text'].apply(lambda x: x.strip())  # Remove leading/trailing whitespace"
   ]
  },
  {
   "cell_type": "code",
   "execution_count": null,
   "metadata": {},
   "outputs": [],
   "source": [
    "corpus['input_ids'] = corpus.apply(add_eos_to_examples, axis=1)"
   ]
  },
  {
   "cell_type": "code",
   "execution_count": null,
   "metadata": {},
   "outputs": [],
   "source": [
    "texts = corpus['Text'].tolist()  # Convert the 'Text' column to a list\n",
    "with open('dying_earth_corpus.txt', 'w') as file:\n",
    "    for text in texts:\n",
    "        file.write(text + tokenizer.eos_token + '\\n')"
   ]
  },
  {
   "cell_type": "code",
   "execution_count": null,
   "metadata": {},
   "outputs": [],
   "source": [
    "dataset = TextDataset(tokenizer=tokenizer, file_path='dying_earth_corpus.txt', block_size=128)\n",
    "data_collator = DataCollatorForLanguageModeling(tokenizer=tokenizer, mlm=False)"
   ]
  },
  {
   "cell_type": "code",
   "execution_count": null,
   "metadata": {},
   "outputs": [],
   "source": [
    "# Define the training arguments\n",
    "training_args = TrainingArguments(\n",
    "    output_dir=\"./gpt2-dying-earth\",\n",
    "    overwrite_output_dir=True,\n",
    "    num_train_epochs=3,\n",
    "    per_device_train_batch_size=4,\n",
    "    save_steps=10_000,\n",
    "    save_total_limit=2,\n",
    ")\n",
    "\n",
    "# Initialize Trainer\n",
    "trainer = Trainer(\n",
    "    model=model,\n",
    "    args=training_args,\n",
    "    data_collator=data_collator,\n",
    "    train_dataset=dataset,\n",
    ")\n",
    "\n",
    "# Train the model\n",
    "trainer.train()"
   ]
  },
  {
   "cell_type": "code",
   "execution_count": null,
   "metadata": {},
   "outputs": [],
   "source": [
    "model.save_pretrained(\"generator_model\")\n",
    "tokenizer.save_pretrained(\"gen_tokenizer\")\n"
   ]
  },
  {
   "cell_type": "code",
   "execution_count": null,
   "metadata": {},
   "outputs": [],
   "source": [
    "# Text Generation\n",
    "prompt = \"Ascolais\"\n",
    "input_ids = tokenizer.encode(prompt, return_tensors='pt')\n",
    "max_length = len(input_ids.tolist()[0]) + 200  # Adjust as needed\n",
    "\n",
    "# Generate and decode text\n",
    "from transformers import set_seed\n",
    "\n",
    "# Optional: Set a seed for reproducibility\n",
    "set_seed(42)\n",
    "\n",
    "# Adjusting generation parameters\n",
    "# Adjusting generation parameters with do_sample set to True\n",
    "output = model.generate(\n",
    "    input_ids,\n",
    "    max_length=max_length,\n",
    "    do_sample=True,        # Enable sampling\n",
    "    temperature=0.7,       # Adjust the temperature\n",
    "    top_k=50,              # Use top-k sampling\n",
    "    top_p=0.95,            # Use top-p (nucleus) sampling\n",
    "    pad_token_id=tokenizer.eos_token_id,\n",
    "    attention_mask=input_ids.new_ones(input_ids.shape)\n",
    ")\n",
    "\n",
    "generated_text = tokenizer.decode(output[0], skip_special_tokens=True)\n",
    "print(generated_text)\n",
    "\n"
   ]
  }
 ],
 "metadata": {
  "kernelspec": {
   "display_name": "cathedral",
   "language": "python",
   "name": "python3"
  },
  "language_info": {
   "codemirror_mode": {
    "name": "ipython",
    "version": 3
   },
   "file_extension": ".py",
   "mimetype": "text/x-python",
   "name": "python",
   "nbconvert_exporter": "python",
   "pygments_lexer": "ipython3",
   "version": "3.8.18"
  }
 },
 "nbformat": 4,
 "nbformat_minor": 2
}
