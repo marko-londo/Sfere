{
 "cells": [
  {
   "cell_type": "code",
   "execution_count": 1,
   "metadata": {},
   "outputs": [],
   "source": [
    "import pandas as pd\n",
    "from transformers import GPT2Tokenizer, GPT2LMHeadModel, TextDataset, DataCollatorForLanguageModeling\n",
    "from transformers import Trainer, TrainingArguments\n",
    "from transformers import pipeline"
   ]
  },
  {
   "cell_type": "code",
   "execution_count": 2,
   "metadata": {},
   "outputs": [],
   "source": [
    "\n",
    "\n",
    "tokenizer = GPT2Tokenizer.from_pretrained('gpt2')\n",
    "model = GPT2LMHeadModel.from_pretrained('gpt2')"
   ]
  },
  {
   "cell_type": "code",
   "execution_count": 3,
   "metadata": {},
   "outputs": [],
   "source": [
    "def pandas_df(csv):\n",
    "    df = pd.read_csv(r\"../../Resources/Cleaned/\"+csv+\".csv\")\n",
    "    return df\n",
    "\n",
    "def add_eos_to_examples(example):\n",
    "    return {'input_ids': tokenizer.encode(example['Text'] + tokenizer.eos_token, truncation=True)}"
   ]
  },
  {
   "cell_type": "code",
   "execution_count": 4,
   "metadata": {},
   "outputs": [],
   "source": [
    "corpus = pandas_df(\"dying_earth_corpus\")"
   ]
  },
  {
   "cell_type": "code",
   "execution_count": 5,
   "metadata": {},
   "outputs": [
    {
     "data": {
      "text/html": [
       "<div>\n",
       "<style scoped>\n",
       "    .dataframe tbody tr th:only-of-type {\n",
       "        vertical-align: middle;\n",
       "    }\n",
       "\n",
       "    .dataframe tbody tr th {\n",
       "        vertical-align: top;\n",
       "    }\n",
       "\n",
       "    .dataframe thead th {\n",
       "        text-align: right;\n",
       "    }\n",
       "</style>\n",
       "<table border=\"1\" class=\"dataframe\">\n",
       "  <thead>\n",
       "    <tr style=\"text-align: right;\">\n",
       "      <th></th>\n",
       "      <th>Title</th>\n",
       "      <th>Text</th>\n",
       "      <th>Is_Dying_Earth</th>\n",
       "    </tr>\n",
       "  </thead>\n",
       "  <tbody>\n",
       "    <tr>\n",
       "      <th>0</th>\n",
       "      <td>The Dying Earth</td>\n",
       "      <td>TURJAN SAT in his workroom, legs sprawled out ...</td>\n",
       "      <td>1</td>\n",
       "    </tr>\n",
       "    <tr>\n",
       "      <th>1</th>\n",
       "      <td>The Dying Earth</td>\n",
       "      <td>It was a thing to arouse pity—a great head on ...</td>\n",
       "      <td>1</td>\n",
       "    </tr>\n",
       "    <tr>\n",
       "      <th>2</th>\n",
       "      <td>The Dying Earth</td>\n",
       "      <td>Turjan stood up, found a bowl of pap. With a l...</td>\n",
       "      <td>1</td>\n",
       "    </tr>\n",
       "    <tr>\n",
       "      <th>3</th>\n",
       "      <td>The Dying Earth</td>\n",
       "      <td>Turjan put down the bowl, stood back and slowl...</td>\n",
       "      <td>1</td>\n",
       "    </tr>\n",
       "    <tr>\n",
       "      <th>4</th>\n",
       "      <td>The Dying Earth</td>\n",
       "      <td>Turjan sighed and left the room. He mounted wi...</td>\n",
       "      <td>1</td>\n",
       "    </tr>\n",
       "  </tbody>\n",
       "</table>\n",
       "</div>"
      ],
      "text/plain": [
       "             Title                                               Text  \\\n",
       "0  The Dying Earth  TURJAN SAT in his workroom, legs sprawled out ...   \n",
       "1  The Dying Earth  It was a thing to arouse pity—a great head on ...   \n",
       "2  The Dying Earth  Turjan stood up, found a bowl of pap. With a l...   \n",
       "3  The Dying Earth  Turjan put down the bowl, stood back and slowl...   \n",
       "4  The Dying Earth  Turjan sighed and left the room. He mounted wi...   \n",
       "\n",
       "   Is_Dying_Earth  \n",
       "0               1  \n",
       "1               1  \n",
       "2               1  \n",
       "3               1  \n",
       "4               1  "
      ]
     },
     "execution_count": 5,
     "metadata": {},
     "output_type": "execute_result"
    }
   ],
   "source": [
    "corpus.head()"
   ]
  },
  {
   "cell_type": "code",
   "execution_count": 6,
   "metadata": {},
   "outputs": [],
   "source": [
    "corpus['Text'] = corpus['Text'].apply(lambda x: x.strip())  # Remove leading/trailing whitespace"
   ]
  },
  {
   "cell_type": "code",
   "execution_count": 7,
   "metadata": {},
   "outputs": [],
   "source": [
    "corpus['input_ids'] = corpus.apply(add_eos_to_examples, axis=1)"
   ]
  },
  {
   "cell_type": "code",
   "execution_count": 8,
   "metadata": {},
   "outputs": [],
   "source": [
    "texts = corpus['Text'].tolist()  # Convert the 'Text' column to a list\n",
    "with open('dying_earth_corpus.txt', 'w') as file:\n",
    "    for text in texts:\n",
    "        file.write(text + tokenizer.eos_token + '\\n')"
   ]
  },
  {
   "cell_type": "code",
   "execution_count": 9,
   "metadata": {},
   "outputs": [
    {
     "name": "stderr",
     "output_type": "stream",
     "text": [
      "c:\\Users\\dontb\\Anaconda3\\envs\\cathedral\\lib\\site-packages\\transformers\\data\\datasets\\language_modeling.py:53: FutureWarning: This dataset will be removed from the library soon, preprocessing should be handled with the 🤗 Datasets library. You can have a look at this example script for pointers: https://github.com/huggingface/transformers/blob/main/examples/pytorch/language-modeling/run_mlm.py\n",
      "  warnings.warn(\n"
     ]
    }
   ],
   "source": [
    "dataset = TextDataset(tokenizer=tokenizer, file_path='dying_earth_corpus.txt', block_size=128)\n",
    "data_collator = DataCollatorForLanguageModeling(tokenizer=tokenizer, mlm=False)"
   ]
  },
  {
   "cell_type": "code",
   "execution_count": 10,
   "metadata": {},
   "outputs": [
    {
     "data": {
      "application/vnd.jupyter.widget-view+json": {
       "model_id": "1bbed4dedb4d4529af095b7c23ed76fc",
       "version_major": 2,
       "version_minor": 0
      },
      "text/plain": [
       "  0%|          | 0/2397 [00:00<?, ?it/s]"
      ]
     },
     "metadata": {},
     "output_type": "display_data"
    },
    {
     "name": "stdout",
     "output_type": "stream",
     "text": [
      "{'loss': 3.7975, 'learning_rate': 3.9570296203587817e-05, 'epoch': 0.63}\n",
      "{'loss': 3.4838, 'learning_rate': 2.9140592407175638e-05, 'epoch': 1.25}\n",
      "{'loss': 3.3241, 'learning_rate': 1.8710888610763455e-05, 'epoch': 1.88}\n",
      "{'loss': 3.1913, 'learning_rate': 8.281184814351273e-06, 'epoch': 2.5}\n",
      "{'train_runtime': 11669.2066, 'train_samples_per_second': 0.821, 'train_steps_per_second': 0.205, 'train_loss': 3.402296694109825, 'epoch': 3.0}\n"
     ]
    },
    {
     "data": {
      "text/plain": [
       "TrainOutput(global_step=2397, training_loss=3.402296694109825, metrics={'train_runtime': 11669.2066, 'train_samples_per_second': 0.821, 'train_steps_per_second': 0.205, 'train_loss': 3.402296694109825, 'epoch': 3.0})"
      ]
     },
     "execution_count": 10,
     "metadata": {},
     "output_type": "execute_result"
    }
   ],
   "source": [
    "# Define the training arguments\n",
    "training_args = TrainingArguments(\n",
    "    output_dir=\"./gpt2-dying-earth\",\n",
    "    overwrite_output_dir=True,\n",
    "    num_train_epochs=3,\n",
    "    per_device_train_batch_size=4,\n",
    "    save_steps=10_000,\n",
    "    save_total_limit=2,\n",
    ")\n",
    "\n",
    "# Initialize Trainer\n",
    "trainer = Trainer(\n",
    "    model=model,\n",
    "    args=training_args,\n",
    "    data_collator=data_collator,\n",
    "    train_dataset=dataset,\n",
    ")\n",
    "\n",
    "# Train the model\n",
    "trainer.train()"
   ]
  },
  {
   "cell_type": "code",
   "execution_count": 11,
   "metadata": {},
   "outputs": [
    {
     "data": {
      "text/plain": [
       "('gen_tokenizer\\\\tokenizer_config.json',\n",
       " 'gen_tokenizer\\\\special_tokens_map.json',\n",
       " 'gen_tokenizer\\\\vocab.json',\n",
       " 'gen_tokenizer\\\\merges.txt',\n",
       " 'gen_tokenizer\\\\added_tokens.json')"
      ]
     },
     "execution_count": 11,
     "metadata": {},
     "output_type": "execute_result"
    }
   ],
   "source": [
    "model.save_pretrained(\"generator_model\")\n",
    "tokenizer.save_pretrained(\"gen_tokenizer\")\n"
   ]
  },
  {
   "cell_type": "code",
   "execution_count": 27,
   "metadata": {},
   "outputs": [
    {
     "name": "stdout",
     "output_type": "stream",
     "text": [
      "Ascolais, your conduct is not unusual,\" said Ildefonse. \"I am not sure how to assess the gravity of the matter.\"\n"
     ]
    }
   ],
   "source": [
    "# Text Generation\n",
    "prompt = \"Ascolais\"\n",
    "input_ids = tokenizer.encode(prompt, return_tensors='pt')\n",
    "max_length = len(input_ids.tolist()[0]) + 200  # Adjust as needed\n",
    "\n",
    "# Generate and decode text\n",
    "from transformers import set_seed\n",
    "\n",
    "# Optional: Set a seed for reproducibility\n",
    "set_seed(42)\n",
    "\n",
    "# Adjusting generation parameters\n",
    "# Adjusting generation parameters with do_sample set to True\n",
    "output = model.generate(\n",
    "    input_ids,\n",
    "    max_length=max_length,\n",
    "    do_sample=True,        # Enable sampling\n",
    "    temperature=0.7,       # Adjust the temperature\n",
    "    top_k=50,              # Use top-k sampling\n",
    "    top_p=0.95,            # Use top-p (nucleus) sampling\n",
    "    pad_token_id=tokenizer.eos_token_id,\n",
    "    attention_mask=input_ids.new_ones(input_ids.shape)\n",
    ")\n",
    "\n",
    "generated_text = tokenizer.decode(output[0], skip_special_tokens=True)\n",
    "print(generated_text)\n",
    "\n"
   ]
  }
 ],
 "metadata": {
  "kernelspec": {
   "display_name": "cathedral",
   "language": "python",
   "name": "python3"
  },
  "language_info": {
   "codemirror_mode": {
    "name": "ipython",
    "version": 3
   },
   "file_extension": ".py",
   "mimetype": "text/x-python",
   "name": "python",
   "nbconvert_exporter": "python",
   "pygments_lexer": "ipython3",
   "version": "3.8.18"
  }
 },
 "nbformat": 4,
 "nbformat_minor": 2
}
