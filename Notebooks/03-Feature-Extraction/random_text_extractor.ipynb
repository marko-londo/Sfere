{
 "cells": [
  {
   "cell_type": "code",
   "execution_count": null,
   "metadata": {},
   "outputs": [],
   "source": [
    "import pickle\n",
    "import pandas as pd\n",
    "import re\n",
    "import random"
   ]
  },
  {
   "cell_type": "code",
   "execution_count": null,
   "metadata": {},
   "outputs": [],
   "source": [
    "def open_book(filename):\n",
    "    with open(\"../../Resources/Cleaned/\"+filename+\".txt\", 'r', encoding='utf-8') as file:\n",
    "        text = file.read()\n",
    "    return text\n",
    "\n",
    "def add_book_to_df(book, book_title):\n",
    "    # Split the book text into paragraphs\n",
    "    paragraphs = book.split('\\n')\n",
    "    \n",
    "    # Clean each paragraph by removing extra whitespace and trimming\n",
    "    paragraphs = [re.sub(r'\\s+', ' ', para.strip()) for para in paragraphs if para.strip()]\n",
    "\n",
    "    # Create a DataFrame with two columns: book title and the paragraph text\n",
    "    df = pd.DataFrame({'Title': [book_title] * len(paragraphs), 'Text': paragraphs})\n",
    "    return df\n",
    "\n",
    "def create_title_text_dict(df):\n",
    "    # Initialize an empty dictionary\n",
    "    title_text_dict = {}\n",
    "\n",
    "    # Iterate through each row of the DataFrame\n",
    "    for index, row in df.iterrows():\n",
    "        # Extract the \"Title\" and \"Text\" values\n",
    "        title = row['Title']\n",
    "        text = row['Text']\n",
    "\n",
    "        # Check if the title already exists in the dictionary\n",
    "        if title in title_text_dict:\n",
    "            # Append the text to the existing list for this title\n",
    "            title_text_dict[title].append(text)\n",
    "        else:\n",
    "            # Create a new entry in the dictionary with the title as the key\n",
    "            title_text_dict[title] = [text]\n",
    "\n",
    "    return title_text_dict\n",
    "\n",
    "def display_random_text(dictionary):\n",
    "\n",
    "    random_title = random.choice(list(dictionary.keys()))\n",
    "\n",
    "    random_text = random.choice(dictionary[random_title])\n",
    "\n",
    "    print(f\"{random_title} : {random_text}\")\n",
    "    \n",
    "def export_dictionary_pickle(dictionary, filename):\n",
    "    # Open a file in write-binary mode\n",
    "    with open(filename, 'wb') as file:\n",
    "        # Use pickle to serialize and save the dictionary\n",
    "        pickle.dump(dictionary, file)\n"
   ]
  },
  {
   "cell_type": "code",
   "execution_count": null,
   "metadata": {},
   "outputs": [],
   "source": [
    "book1 = open_book(\"cosmos_cleaned\")\n",
    "book2 = open_book(\"into_thin_air_cleaned\")\n",
    "book3 = open_book(\"tom_sawyer_cleaned\")\n",
    "book5 = open_book(\"stardust_cleaned\")\n",
    "book4 = open_book(\"1984_cleaned\")\n",
    "book6 = open_book(\"androids_cleaned\")\n",
    "\n",
    "cosmos_df = add_book_to_df(book1, '\"Cosmos\" by Carl Sagan')\n",
    "into_thin_air_df = add_book_to_df(book2, '\"Into Thin Air\" by Jon Krakauer')\n",
    "tom_sawyer_df = add_book_to_df(book3, '\"The Adventures of Tom Sawyer\" by Mark Twain')\n",
    "df_1984 = add_book_to_df(book4, '\"1984\" by George Orwell')\n",
    "android_df = add_book_to_df(book6, '\"Do Androids Dream of Electric Sheep?\" by Philip K. Dick')\n",
    "stardust_df = add_book_to_df(book5, '\"Stardust\" by Neil Gaiman')\n"
   ]
  },
  {
   "cell_type": "code",
   "execution_count": null,
   "metadata": {},
   "outputs": [],
   "source": [
    "corpus = pd.concat([cosmos_df, into_thin_air_df, android_df, tom_sawyer_df, df_1984, stardust_df], ignore_index=True)"
   ]
  },
  {
   "cell_type": "code",
   "execution_count": null,
   "metadata": {},
   "outputs": [],
   "source": [
    "corpus.Title.unique().tolist()"
   ]
  },
  {
   "cell_type": "code",
   "execution_count": null,
   "metadata": {},
   "outputs": [],
   "source": [
    "book_dict = create_title_text_dict(corpus)"
   ]
  },
  {
   "cell_type": "code",
   "execution_count": null,
   "metadata": {},
   "outputs": [],
   "source": [
    "display_random_text(book_dict)\n",
    "\n"
   ]
  },
  {
   "cell_type": "code",
   "execution_count": null,
   "metadata": {},
   "outputs": [],
   "source": [
    "export_dictionary_pickle(book_dict, 'book_dictionary.pkl')"
   ]
  }
 ],
 "metadata": {
  "kernelspec": {
   "display_name": "cathedral",
   "language": "python",
   "name": "python3"
  },
  "language_info": {
   "codemirror_mode": {
    "name": "ipython",
    "version": 3
   },
   "file_extension": ".py",
   "mimetype": "text/x-python",
   "name": "python",
   "nbconvert_exporter": "python",
   "pygments_lexer": "ipython3",
   "version": "3.8.18"
  }
 },
 "nbformat": 4,
 "nbformat_minor": 2
}
