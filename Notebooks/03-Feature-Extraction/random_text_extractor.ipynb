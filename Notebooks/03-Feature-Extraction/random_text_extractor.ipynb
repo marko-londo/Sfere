{
 "cells": [
  {
   "cell_type": "code",
   "execution_count": 1,
   "metadata": {},
   "outputs": [],
   "source": [
    "import pickle\n",
    "import pandas as pd\n",
    "import re\n",
    "import random"
   ]
  },
  {
   "cell_type": "code",
   "execution_count": 2,
   "metadata": {},
   "outputs": [],
   "source": [
    "def open_book(filename):\n",
    "    with open(\"../../Resources/Cleaned/\"+filename+\".txt\", 'r', encoding='utf-8') as file:\n",
    "        text = file.read()\n",
    "    return text\n",
    "\n",
    "def add_book_to_df(book, book_title):\n",
    "    # Split the book text into paragraphs\n",
    "    paragraphs = book.split('\\n')\n",
    "    \n",
    "    # Clean each paragraph by removing extra whitespace and trimming\n",
    "    paragraphs = [re.sub(r'\\s+', ' ', para.strip()) for para in paragraphs if para.strip()]\n",
    "\n",
    "    # Create a DataFrame with two columns: book title and the paragraph text\n",
    "    df = pd.DataFrame({'Title': [book_title] * len(paragraphs), 'Text': paragraphs})\n",
    "    return df\n",
    "\n",
    "def create_title_text_dict(df):\n",
    "    # Initialize an empty dictionary\n",
    "    title_text_dict = {}\n",
    "\n",
    "    # Iterate through each row of the DataFrame\n",
    "    for index, row in df.iterrows():\n",
    "        # Extract the \"Title\" and \"Text\" values\n",
    "        title = row['Title']\n",
    "        text = row['Text']\n",
    "\n",
    "        # Check if the title already exists in the dictionary\n",
    "        if title in title_text_dict:\n",
    "            # Append the text to the existing list for this title\n",
    "            title_text_dict[title].append(text)\n",
    "        else:\n",
    "            # Create a new entry in the dictionary with the title as the key\n",
    "            title_text_dict[title] = [text]\n",
    "\n",
    "    return title_text_dict\n",
    "\n",
    "def display_random_text(dictionary):\n",
    "\n",
    "    random_title = random.choice(list(dictionary.keys()))\n",
    "\n",
    "    random_text = random.choice(dictionary[random_title])\n",
    "\n",
    "    print(f\"{random_title} : {random_text}\")\n",
    "    \n",
    "def export_dictionary_pickle(dictionary, filename):\n",
    "    # Open a file in write-binary mode\n",
    "    with open(filename, 'wb') as file:\n",
    "        # Use pickle to serialize and save the dictionary\n",
    "        pickle.dump(dictionary, file)\n"
   ]
  },
  {
   "cell_type": "code",
   "execution_count": 3,
   "metadata": {},
   "outputs": [],
   "source": [
    "book1 = open_book(\"cosmos_cleaned\")\n",
    "book2 = open_book(\"into_thin_air_cleaned\")\n",
    "book3 = open_book(\"tom_sawyer_cleaned\")\n",
    "book5 = open_book(\"stardust_cleaned\")\n",
    "book4 = open_book(\"1984_cleaned\")\n",
    "book6 = open_book(\"androids_cleaned\")\n",
    "\n",
    "cosmos_df = add_book_to_df(book1, '\"Cosmos\" by Carl Sagan')\n",
    "into_thin_air_df = add_book_to_df(book2, '\"Into Thin Air\" by Jon Krakauer')\n",
    "tom_sawyer_df = add_book_to_df(book3, '\"The Adventures of Tom Sawyer\" by Mark Twain')\n",
    "df_1984 = add_book_to_df(book4, '\"1984\" by George Orwell')\n",
    "android_df = add_book_to_df(book6, '\"Do Androids Dream of Electric Sheep?\" by Philip K. Dick')\n",
    "stardust_df = add_book_to_df(book5, '\"Stardust\" by Neil Gaiman')\n"
   ]
  },
  {
   "cell_type": "code",
   "execution_count": 4,
   "metadata": {},
   "outputs": [],
   "source": [
    "corpus = pd.concat([cosmos_df, into_thin_air_df, android_df, tom_sawyer_df, df_1984, stardust_df], ignore_index=True)"
   ]
  },
  {
   "cell_type": "code",
   "execution_count": 5,
   "metadata": {},
   "outputs": [
    {
     "data": {
      "text/plain": [
       "['\"Cosmos\" by Carl Sagan',\n",
       " '\"Do Androids Dream of Electric Sheep?\" by Philip K. Dick',\n",
       " '\"The Adventures of Tom Sawyer\" by Mark Twain',\n",
       " '\"1984\" by George Orwell',\n",
       " '\"Stardust\" by Neil Gaiman']"
      ]
     },
     "execution_count": 5,
     "metadata": {},
     "output_type": "execute_result"
    }
   ],
   "source": [
    "corpus.Title.unique().tolist()"
   ]
  },
  {
   "cell_type": "code",
   "execution_count": 6,
   "metadata": {},
   "outputs": [],
   "source": [
    "book_dict = create_title_text_dict(corpus)"
   ]
  },
  {
   "cell_type": "code",
   "execution_count": 7,
   "metadata": {},
   "outputs": [
    {
     "name": "stdout",
     "output_type": "stream",
     "text": [
      "\"Cosmos\" by Carl Sagan : the energy of a single snowflake striking the ground. In detecting the cosmic background radiation, in counting quasars, in searching for intelligent signals from space, radio astronomers are dealing with amounts of energy that are barely there at all. Some matter, particularly the matter in the stars, glows in visible light and is easy to see. Other matter, gas and dust in the outskirts of galaxies, for example, is not so readily detected. It does not give off visible light, although it seems to give off radio waves. This is one reason that the unlocking of the cosmological mysteries requires us to use exotic instruments and frequencies different from the visible light to which our eyes are sensitive. Observatories in Earth orbit have found an intense X-ray glow between the galaxies. It was first thought to be hot intergalactic hydrogen, an immense amount of it never before seen, perhaps enough to close the Cosmos and to guarantee that we are trapped in an oscillating universe. But more recent observations by Ricardo Giacconi may have resolved the X-ray glow into individual points, perhaps an immense horde of distant quasars. They contribute previously unknown mass to the universe as well. When the cosmic inventory is completed, and the mass of all the galaxies, quasars, black holes, intergalactic hydrogen, gravitational waves and still more exotic denizens of space is summed up, we will know what kind of universe we inhabit. In discussing the large-scale structure of the Cosmos, astronomers are fond of saying that space is curved, or that there is no center to the Cosmos, or that the universe is finite but unbounded. Whatever are they talking about? Let us imagine we inhabit a strange country where everyone is perfectly flat. Following Edwin Abbott, a Shakespearean scholar who lived in Victorian England, we call it Flatland. Some of us are squares; some are triangles; some have more complex shapes. We scurry about, in and out of our flat buildings, occupied with our flat businesses and dalliances. Everyone in Flatland has width and length, but no height whatever. We know about left-right and forward-back, but have no hint, not a trace of comprehension, about up-down - except for flat mathematicians. They say, ‘Listen, it’s really very easy. Imagine leftright. Imagine forward-back. Okay, so far? Now imagine another dimension, at right angles to the other two.’ And we say, ‘What are you talking about? “At right angles to the other two!” There are only two dimensions. Point to that third dimension. Where is it?’ So the mathematicians, disheartened, amble off. Nobody listens to mathematicians. Every square creature in Flatland sees another square as merely a short line segment, the side of the square nearest to him. He can see the other side of the square only by taking a short walk. But the inside of a square is forever mysterious, unless some terrible accident or autopsy breaches the sides and exposes the interior parts. One day a three-dimensional creature - shaped like an apple, say - comes upon Flatland, hovering above it. Observing a particularly attractive and congenial-looking square entering its flat house, the apple decides, in a gesture of interdimensional amity, to say hello. ‘How are you?’ asks the visitor from the third dimension. ‘I am a visitor from the third dimension.’ The wretched square looks about his closed house and sees no one. What is worse, to him it appears that the greeting, entering from above, is emanating from his own flat body, a voice from within. A little insanity, he perhaps reminds himself gamely, runs in the family. Exasperated at being judged a psychological aberration, the apple descends into Flatland. Now a three-dimensional creature can exist, in Flatland, only partially; only a cross section can be seen, only the points of contact with the plane surface of Flatland. An apple slithering through Flatland would appear first as a point and then as progressively larger, roughly circular slices. The square sees a point appearing in a closed room in his two-dimensional world and slowly growing into a near circle. A creature of strange and changing shape has appeared from nowhere. Rebuffed, unhappy at the obtuseness of the very flat, the apple bumps the square and\n"
     ]
    }
   ],
   "source": [
    "display_random_text(book_dict)\n",
    "\n"
   ]
  },
  {
   "cell_type": "code",
   "execution_count": 8,
   "metadata": {},
   "outputs": [],
   "source": [
    "export_dictionary_pickle(book_dict, 'book_dictionary.pkl')"
   ]
  }
 ],
 "metadata": {
  "kernelspec": {
   "display_name": "cathedral",
   "language": "python",
   "name": "python3"
  },
  "language_info": {
   "codemirror_mode": {
    "name": "ipython",
    "version": 3
   },
   "file_extension": ".py",
   "mimetype": "text/x-python",
   "name": "python",
   "nbconvert_exporter": "python",
   "pygments_lexer": "ipython3",
   "version": "3.8.18"
  }
 },
 "nbformat": 4,
 "nbformat_minor": 2
}
