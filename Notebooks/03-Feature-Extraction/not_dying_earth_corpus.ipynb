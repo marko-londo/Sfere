{
 "cells": [
  {
   "cell_type": "code",
   "execution_count": 2,
   "metadata": {},
   "outputs": [],
   "source": [
    "import pandas as pd"
   ]
  },
  {
   "cell_type": "code",
   "execution_count": 3,
   "metadata": {},
   "outputs": [],
   "source": [
    "def pandas_df(csv):\n",
    "    df = pd.read_csv(r\"../../Resources/Cleaned/\"+csv+\".csv\")\n",
    "    return df\n",
    "\n",
    "def df_to_csv(df, filename):\n",
    "    df.to_csv(\"../../Resources/Cleaned/\"+filename+\".csv\", index=False)"
   ]
  },
  {
   "cell_type": "code",
   "execution_count": 4,
   "metadata": {},
   "outputs": [],
   "source": [
    "cosmos_df = pandas_df(\"cosmos_paragraphs\")\n",
    "into_df = pandas_df(\"into_thin_air_paragraphs\")\n",
    "tom_sawyer_df = pandas_df(\"tom_sawyer_paragraphs\")\n",
    "para_1984_df = pandas_df(\"1984_paragraphs\")"
   ]
  },
  {
   "cell_type": "code",
   "execution_count": 7,
   "metadata": {},
   "outputs": [
    {
     "data": {
      "text/plain": [
       "[1984]"
      ]
     },
     "execution_count": 7,
     "metadata": {},
     "output_type": "execute_result"
    }
   ],
   "source": [
    "para_1984_df"
   ]
  },
  {
   "cell_type": "code",
   "execution_count": 38,
   "metadata": {},
   "outputs": [
    {
     "data": {
      "text/html": [
       "<div>\n",
       "<style scoped>\n",
       "    .dataframe tbody tr th:only-of-type {\n",
       "        vertical-align: middle;\n",
       "    }\n",
       "\n",
       "    .dataframe tbody tr th {\n",
       "        vertical-align: top;\n",
       "    }\n",
       "\n",
       "    .dataframe thead th {\n",
       "        text-align: right;\n",
       "    }\n",
       "</style>\n",
       "<table border=\"1\" class=\"dataframe\">\n",
       "  <thead>\n",
       "    <tr style=\"text-align: right;\">\n",
       "      <th></th>\n",
       "      <th>Title</th>\n",
       "      <th>Text</th>\n",
       "    </tr>\n",
       "  </thead>\n",
       "  <tbody>\n",
       "    <tr>\n",
       "      <th>0</th>\n",
       "      <td>Tom Sawyer</td>\n",
       "      <td>\"What's gone with that boy, I wonder? You TOM!...</td>\n",
       "    </tr>\n",
       "    <tr>\n",
       "      <th>1</th>\n",
       "      <td>Tom Sawyer</td>\n",
       "      <td>The old lady pulled her spectacles down and lo...</td>\n",
       "    </tr>\n",
       "    <tr>\n",
       "      <th>2</th>\n",
       "      <td>Tom Sawyer</td>\n",
       "      <td>\"Well, I lay if I get hold of you I'll --\"She ...</td>\n",
       "    </tr>\n",
       "    <tr>\n",
       "      <th>3</th>\n",
       "      <td>Tom Sawyer</td>\n",
       "      <td>\"I never did see the beat of that boy!\"She wen...</td>\n",
       "    </tr>\n",
       "    <tr>\n",
       "      <th>4</th>\n",
       "      <td>Tom Sawyer</td>\n",
       "      <td>\"Y-o-u-u TOM!\"There was a slight noise behind ...</td>\n",
       "    </tr>\n",
       "    <tr>\n",
       "      <th>...</th>\n",
       "      <td>...</td>\n",
       "      <td>...</td>\n",
       "    </tr>\n",
       "    <tr>\n",
       "      <th>616</th>\n",
       "      <td>Tom Sawyer</td>\n",
       "      <td>Judge Thatcher hoped to see Tom a great lawyer...</td>\n",
       "    </tr>\n",
       "    <tr>\n",
       "      <th>617</th>\n",
       "      <td>Tom Sawyer</td>\n",
       "      <td>Huck Finn's wealth and the fact that he was no...</td>\n",
       "    </tr>\n",
       "    <tr>\n",
       "      <th>618</th>\n",
       "      <td>Tom Sawyer</td>\n",
       "      <td>He bravely bore his miseries three weeks, and ...</td>\n",
       "    </tr>\n",
       "    <tr>\n",
       "      <th>619</th>\n",
       "      <td>Tom Sawyer</td>\n",
       "      <td>\"Well, I'll go back to the widder for a month ...</td>\n",
       "    </tr>\n",
       "    <tr>\n",
       "      <th>620</th>\n",
       "      <td>Tom Sawyer</td>\n",
       "      <td>Most of the characters that perform in this bo...</td>\n",
       "    </tr>\n",
       "  </tbody>\n",
       "</table>\n",
       "<p>621 rows × 2 columns</p>\n",
       "</div>"
      ],
      "text/plain": [
       "          Title                                               Text\n",
       "0    Tom Sawyer  \"What's gone with that boy, I wonder? You TOM!...\n",
       "1    Tom Sawyer  The old lady pulled her spectacles down and lo...\n",
       "2    Tom Sawyer  \"Well, I lay if I get hold of you I'll --\"She ...\n",
       "3    Tom Sawyer  \"I never did see the beat of that boy!\"She wen...\n",
       "4    Tom Sawyer  \"Y-o-u-u TOM!\"There was a slight noise behind ...\n",
       "..          ...                                                ...\n",
       "616  Tom Sawyer  Judge Thatcher hoped to see Tom a great lawyer...\n",
       "617  Tom Sawyer  Huck Finn's wealth and the fact that he was no...\n",
       "618  Tom Sawyer  He bravely bore his miseries three weeks, and ...\n",
       "619  Tom Sawyer  \"Well, I'll go back to the widder for a month ...\n",
       "620  Tom Sawyer  Most of the characters that perform in this bo...\n",
       "\n",
       "[621 rows x 2 columns]"
      ]
     },
     "execution_count": 38,
     "metadata": {},
     "output_type": "execute_result"
    }
   ],
   "source": [
    "tom_sawyer_df"
   ]
  },
  {
   "cell_type": "code",
   "execution_count": 39,
   "metadata": {},
   "outputs": [],
   "source": [
    "not_de_corpus_df = pd.concat([cosmos_df, into_df, tom_sawyer_df, para_1984_df], ignore_index=True)\n",
    "not_de_corpus_df[\"Is_Dying_Earth\"] = 0"
   ]
  },
  {
   "cell_type": "code",
   "execution_count": 40,
   "metadata": {},
   "outputs": [
    {
     "data": {
      "text/html": [
       "<div>\n",
       "<style scoped>\n",
       "    .dataframe tbody tr th:only-of-type {\n",
       "        vertical-align: middle;\n",
       "    }\n",
       "\n",
       "    .dataframe tbody tr th {\n",
       "        vertical-align: top;\n",
       "    }\n",
       "\n",
       "    .dataframe thead th {\n",
       "        text-align: right;\n",
       "    }\n",
       "</style>\n",
       "<table border=\"1\" class=\"dataframe\">\n",
       "  <thead>\n",
       "    <tr style=\"text-align: right;\">\n",
       "      <th></th>\n",
       "      <th>Title</th>\n",
       "      <th>Text</th>\n",
       "      <th>Is_Dying_Earth</th>\n",
       "    </tr>\n",
       "  </thead>\n",
       "  <tbody>\n",
       "    <tr>\n",
       "      <th>0</th>\n",
       "      <td>Cosmos</td>\n",
       "      <td>The Shores of the Cosmic Ocean The first men t...</td>\n",
       "      <td>0</td>\n",
       "    </tr>\n",
       "    <tr>\n",
       "      <th>1</th>\n",
       "      <td>Cosmos</td>\n",
       "      <td>The known is finite, the unknown in finite; in...</td>\n",
       "      <td>0</td>\n",
       "    </tr>\n",
       "    <tr>\n",
       "      <th>2</th>\n",
       "      <td>Cosmos</td>\n",
       "      <td>The Cosmos is all that is or ever was or ever ...</td>\n",
       "      <td>0</td>\n",
       "    </tr>\n",
       "    <tr>\n",
       "      <th>3</th>\n",
       "      <td>Cosmos</td>\n",
       "      <td>The size and age of the Cosmos are beyond ordi...</td>\n",
       "      <td>0</td>\n",
       "    </tr>\n",
       "    <tr>\n",
       "      <th>4</th>\n",
       "      <td>Cosmos</td>\n",
       "      <td>Those explorations required skepticism a nd im...</td>\n",
       "      <td>0</td>\n",
       "    </tr>\n",
       "    <tr>\n",
       "      <th>...</th>\n",
       "      <td>...</td>\n",
       "      <td>...</td>\n",
       "      <td>...</td>\n",
       "    </tr>\n",
       "    <tr>\n",
       "      <th>4035</th>\n",
       "      <td>1984</td>\n",
       "      <td>It would have been quite impossible to render ...</td>\n",
       "      <td>0</td>\n",
       "    </tr>\n",
       "    <tr>\n",
       "      <th>4036</th>\n",
       "      <td>1984</td>\n",
       "      <td>A full translation could only be an ideologica...</td>\n",
       "      <td>0</td>\n",
       "    </tr>\n",
       "    <tr>\n",
       "      <th>4037</th>\n",
       "      <td>1984</td>\n",
       "      <td>A good deal of the literature of the past was,...</td>\n",
       "      <td>0</td>\n",
       "    </tr>\n",
       "    <tr>\n",
       "      <th>4038</th>\n",
       "      <td>1984</td>\n",
       "      <td>Various writers, such as Shakespeare, Milton, ...</td>\n",
       "      <td>0</td>\n",
       "    </tr>\n",
       "    <tr>\n",
       "      <th>4039</th>\n",
       "      <td>1984</td>\n",
       "      <td>End</td>\n",
       "      <td>0</td>\n",
       "    </tr>\n",
       "  </tbody>\n",
       "</table>\n",
       "<p>4040 rows × 3 columns</p>\n",
       "</div>"
      ],
      "text/plain": [
       "       Title                                               Text  \\\n",
       "0     Cosmos  The Shores of the Cosmic Ocean The first men t...   \n",
       "1     Cosmos  The known is finite, the unknown in finite; in...   \n",
       "2     Cosmos  The Cosmos is all that is or ever was or ever ...   \n",
       "3     Cosmos  The size and age of the Cosmos are beyond ordi...   \n",
       "4     Cosmos  Those explorations required skepticism a nd im...   \n",
       "...      ...                                                ...   \n",
       "4035    1984  It would have been quite impossible to render ...   \n",
       "4036    1984  A full translation could only be an ideologica...   \n",
       "4037    1984  A good deal of the literature of the past was,...   \n",
       "4038    1984  Various writers, such as Shakespeare, Milton, ...   \n",
       "4039    1984                                                End   \n",
       "\n",
       "      Is_Dying_Earth  \n",
       "0                  0  \n",
       "1                  0  \n",
       "2                  0  \n",
       "3                  0  \n",
       "4                  0  \n",
       "...              ...  \n",
       "4035               0  \n",
       "4036               0  \n",
       "4037               0  \n",
       "4038               0  \n",
       "4039               0  \n",
       "\n",
       "[4040 rows x 3 columns]"
      ]
     },
     "execution_count": 40,
     "metadata": {},
     "output_type": "execute_result"
    }
   ],
   "source": [
    "not_de_corpus_df"
   ]
  },
  {
   "cell_type": "code",
   "execution_count": null,
   "metadata": {},
   "outputs": [],
   "source": [
    "df_to_csv(not_de_corpus_df, \"not_dying_earth_corpus\")"
   ]
  }
 ],
 "metadata": {
  "kernelspec": {
   "display_name": "lumenwood",
   "language": "python",
   "name": "python3"
  },
  "language_info": {
   "codemirror_mode": {
    "name": "ipython",
    "version": 3
   },
   "file_extension": ".py",
   "mimetype": "text/x-python",
   "name": "python",
   "nbconvert_exporter": "python",
   "pygments_lexer": "ipython3",
   "version": "3.8.18"
  }
 },
 "nbformat": 4,
 "nbformat_minor": 2
}
