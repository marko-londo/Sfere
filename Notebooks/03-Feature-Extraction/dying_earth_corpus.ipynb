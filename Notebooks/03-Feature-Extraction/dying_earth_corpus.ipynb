{
 "cells": [
  {
   "cell_type": "code",
   "execution_count": 17,
   "metadata": {},
   "outputs": [],
   "source": [
    "import pandas as pd"
   ]
  },
  {
   "cell_type": "code",
   "execution_count": 18,
   "metadata": {},
   "outputs": [],
   "source": [
    "def pandas_df(csv):\n",
    "    df = pd.read_csv(r\"../../Resources/Cleaned/\"+csv+\".csv\")\n",
    "    return df\n",
    "\n",
    "def df_to_csv(df, filename):\n",
    "    df.to_csv(\"../../Resources/Cleaned/\"+filename+\".csv\", index=False)"
   ]
  },
  {
   "cell_type": "code",
   "execution_count": 19,
   "metadata": {},
   "outputs": [],
   "source": [
    "de1_df = pandas_df(\"dying_earth1_paragraphs\")\n",
    "de2_df = pandas_df(\"dying_earth2_paragraphs\")\n",
    "de3_df = pandas_df(\"dying_earth3_paragraphs\")\n",
    "de4_df = pandas_df(\"dying_earth4_paragraphs\")"
   ]
  },
  {
   "cell_type": "code",
   "execution_count": 20,
   "metadata": {},
   "outputs": [
    {
     "data": {
      "text/html": [
       "<div>\n",
       "<style scoped>\n",
       "    .dataframe tbody tr th:only-of-type {\n",
       "        vertical-align: middle;\n",
       "    }\n",
       "\n",
       "    .dataframe tbody tr th {\n",
       "        vertical-align: top;\n",
       "    }\n",
       "\n",
       "    .dataframe thead th {\n",
       "        text-align: right;\n",
       "    }\n",
       "</style>\n",
       "<table border=\"1\" class=\"dataframe\">\n",
       "  <thead>\n",
       "    <tr style=\"text-align: right;\">\n",
       "      <th></th>\n",
       "      <th>Title</th>\n",
       "      <th>Text</th>\n",
       "      <th>Is_Dying_Earth</th>\n",
       "    </tr>\n",
       "  </thead>\n",
       "  <tbody>\n",
       "    <tr>\n",
       "      <th>0</th>\n",
       "      <td>The Dying Earth</td>\n",
       "      <td>TURJAN SAT in his workroom, legs sprawled out ...</td>\n",
       "      <td>1</td>\n",
       "    </tr>\n",
       "    <tr>\n",
       "      <th>1</th>\n",
       "      <td>The Dying Earth</td>\n",
       "      <td>It was a thing to arouse pity—a great head on ...</td>\n",
       "      <td>1</td>\n",
       "    </tr>\n",
       "    <tr>\n",
       "      <th>2</th>\n",
       "      <td>The Dying Earth</td>\n",
       "      <td>Turjan stood up, found a bowl of pap. With a l...</td>\n",
       "      <td>1</td>\n",
       "    </tr>\n",
       "    <tr>\n",
       "      <th>3</th>\n",
       "      <td>The Dying Earth</td>\n",
       "      <td>Turjan put down the bowl, stood back and slowl...</td>\n",
       "      <td>1</td>\n",
       "    </tr>\n",
       "    <tr>\n",
       "      <th>4</th>\n",
       "      <td>The Dying Earth</td>\n",
       "      <td>Turjan sighed and left the room. He mounted wi...</td>\n",
       "      <td>1</td>\n",
       "    </tr>\n",
       "    <tr>\n",
       "      <th>...</th>\n",
       "      <td>...</td>\n",
       "      <td>...</td>\n",
       "      <td>...</td>\n",
       "    </tr>\n",
       "    <tr>\n",
       "      <th>4670</th>\n",
       "      <td>Rhialto the Marvellous</td>\n",
       "      <td>The Monstrament, placed in a crypt at Fader's ...</td>\n",
       "      <td>1</td>\n",
       "    </tr>\n",
       "    <tr>\n",
       "      <th>4671</th>\n",
       "      <td>Rhialto the Marvellous</td>\n",
       "      <td>hiatus: The Spell of Temporal Stasis, affectin...</td>\n",
       "      <td>1</td>\n",
       "    </tr>\n",
       "    <tr>\n",
       "      <th>4672</th>\n",
       "      <td>Rhialto the Marvellous</td>\n",
       "      <td>chug: a semi-intelligent sub-type of sandestin...</td>\n",
       "      <td>1</td>\n",
       "    </tr>\n",
       "    <tr>\n",
       "      <th>4673</th>\n",
       "      <td>Rhialto the Marvellous</td>\n",
       "      <td>flantic: winged creature with grotesque man-li...</td>\n",
       "      <td>1</td>\n",
       "    </tr>\n",
       "    <tr>\n",
       "      <th>4674</th>\n",
       "      <td>Rhialto the Marvellous</td>\n",
       "      <td>The spell of Forlorn Encystment operates to bu...</td>\n",
       "      <td>1</td>\n",
       "    </tr>\n",
       "  </tbody>\n",
       "</table>\n",
       "<p>4675 rows × 3 columns</p>\n",
       "</div>"
      ],
      "text/plain": [
       "                       Title  \\\n",
       "0            The Dying Earth   \n",
       "1            The Dying Earth   \n",
       "2            The Dying Earth   \n",
       "3            The Dying Earth   \n",
       "4            The Dying Earth   \n",
       "...                      ...   \n",
       "4670  Rhialto the Marvellous   \n",
       "4671  Rhialto the Marvellous   \n",
       "4672  Rhialto the Marvellous   \n",
       "4673  Rhialto the Marvellous   \n",
       "4674  Rhialto the Marvellous   \n",
       "\n",
       "                                                   Text  Is_Dying_Earth  \n",
       "0     TURJAN SAT in his workroom, legs sprawled out ...               1  \n",
       "1     It was a thing to arouse pity—a great head on ...               1  \n",
       "2     Turjan stood up, found a bowl of pap. With a l...               1  \n",
       "3     Turjan put down the bowl, stood back and slowl...               1  \n",
       "4     Turjan sighed and left the room. He mounted wi...               1  \n",
       "...                                                 ...             ...  \n",
       "4670  The Monstrament, placed in a crypt at Fader's ...               1  \n",
       "4671  hiatus: The Spell of Temporal Stasis, affectin...               1  \n",
       "4672  chug: a semi-intelligent sub-type of sandestin...               1  \n",
       "4673  flantic: winged creature with grotesque man-li...               1  \n",
       "4674  The spell of Forlorn Encystment operates to bu...               1  \n",
       "\n",
       "[4675 rows x 3 columns]"
      ]
     },
     "execution_count": 20,
     "metadata": {},
     "output_type": "execute_result"
    }
   ],
   "source": [
    "de_corpus_df = pd.concat([de1_df, de2_df, de3_df, de4_df], axis=0, ignore_index=True)\n",
    "de_corpus_df[\"Is_Dying_Earth\"] = 1\n",
    "de_corpus_df"
   ]
  },
  {
   "cell_type": "code",
   "execution_count": 21,
   "metadata": {},
   "outputs": [],
   "source": [
    "df_to_csv(de_corpus_df, \"dying_earth_corpus\")"
   ]
  }
 ],
 "metadata": {
  "kernelspec": {
   "display_name": "lumenwood",
   "language": "python",
   "name": "python3"
  },
  "language_info": {
   "codemirror_mode": {
    "name": "ipython",
    "version": 3
   },
   "file_extension": ".py",
   "mimetype": "text/x-python",
   "name": "python",
   "nbconvert_exporter": "python",
   "pygments_lexer": "ipython3",
   "version": "3.8.18"
  }
 },
 "nbformat": 4,
 "nbformat_minor": 2
}
