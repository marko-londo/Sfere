{
 "cells": [
  {
   "cell_type": "code",
   "execution_count": null,
   "metadata": {},
   "outputs": [],
   "source": [
    "import pandas as pd"
   ]
  },
  {
   "cell_type": "code",
   "execution_count": null,
   "metadata": {},
   "outputs": [],
   "source": [
    "def pandas_df(csv):\n",
    "    df = pd.read_csv(r\"../../Resources/Cleaned/\"+csv+\".csv\")\n",
    "    return df\n",
    "\n",
    "def df_to_csv(df, filename):\n",
    "    df.to_csv(\"../../Resources/Cleaned/\"+filename+\".csv\", index=False)"
   ]
  },
  {
   "cell_type": "code",
   "execution_count": null,
   "metadata": {},
   "outputs": [],
   "source": [
    "de1_df = pandas_df(\"dying_earth1_paragraphs\")\n",
    "de2_df = pandas_df(\"dying_earth2_paragraphs\")\n",
    "de3_df = pandas_df(\"dying_earth3_paragraphs\")\n",
    "de4_df = pandas_df(\"dying_earth4_paragraphs\")"
   ]
  },
  {
   "cell_type": "code",
   "execution_count": null,
   "metadata": {},
   "outputs": [],
   "source": [
    "de_corpus_df = pd.concat([de1_df, de2_df, de3_df, de4_df], axis=0, ignore_index=True)\n",
    "de_corpus_df[\"Is_Dying_Earth\"] = 1\n",
    "de_corpus_df"
   ]
  },
  {
   "cell_type": "code",
   "execution_count": null,
   "metadata": {},
   "outputs": [],
   "source": [
    "df_to_csv(de_corpus_df, \"dying_earth_corpus\")"
   ]
  }
 ],
 "metadata": {
  "kernelspec": {
   "display_name": "lumenwood",
   "language": "python",
   "name": "python3"
  },
  "language_info": {
   "codemirror_mode": {
    "name": "ipython",
    "version": 3
   },
   "file_extension": ".py",
   "mimetype": "text/x-python",
   "name": "python",
   "nbconvert_exporter": "python",
   "pygments_lexer": "ipython3",
   "version": "3.8.18"
  }
 },
 "nbformat": 4,
 "nbformat_minor": 2
}
